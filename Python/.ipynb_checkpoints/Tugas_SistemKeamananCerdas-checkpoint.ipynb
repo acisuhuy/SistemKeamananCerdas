{
 "cells": [
  {
   "cell_type": "code",
   "execution_count": 9,
   "id": "84af213c",
   "metadata": {},
   "outputs": [],
   "source": [
    "import pandas as pd\n",
    "malData = pd.read_csv(\"MalwareData.csv\", sep=\"|\")"
   ]
  },
  {
   "cell_type": "code",
   "execution_count": 10,
   "id": "b21b0e52",
   "metadata": {},
   "outputs": [
    {
     "name": "stdout",
     "output_type": "stream",
     "text": [
      "Index(['Name', 'md5', 'Machine', 'SizeOfOptionalHeader', 'Characteristics',\n",
      "       'MajorLinkerVersion', 'MinorLinkerVersion', 'SizeOfCode',\n",
      "       'SizeOfInitializedData', 'SizeOfUninitializedData',\n",
      "       'AddressOfEntryPoint', 'BaseOfCode', 'BaseOfData', 'ImageBase',\n",
      "       'SectionAlignment', 'FileAlignment', 'MajorOperatingSystemVersion',\n",
      "       'MinorOperatingSystemVersion', 'MajorImageVersion', 'MinorImageVersion',\n",
      "       'MajorSubsystemVersion', 'MinorSubsystemVersion', 'SizeOfImage',\n",
      "       'SizeOfHeaders', 'CheckSum', 'Subsystem', 'DllCharacteristics',\n",
      "       'SizeOfStackReserve', 'SizeOfStackCommit', 'SizeOfHeapReserve',\n",
      "       'SizeOfHeapCommit', 'LoaderFlags', 'NumberOfRvaAndSizes', 'SectionsNb',\n",
      "       'SectionsMeanEntropy', 'SectionsMinEntropy', 'SectionsMaxEntropy',\n",
      "       'SectionsMeanRawsize', 'SectionsMinRawsize', 'SectionMaxRawsize',\n",
      "       'SectionsMeanVirtualsize', 'SectionsMinVirtualsize',\n",
      "       'SectionMaxVirtualsize', 'ImportsNbDLL', 'ImportsNb',\n",
      "       'ImportsNbOrdinal', 'ExportNb', 'ResourcesNb', 'ResourcesMeanEntropy',\n",
      "       'ResourcesMinEntropy', 'ResourcesMaxEntropy', 'ResourcesMeanSize',\n",
      "       'ResourcesMinSize', 'ResourcesMaxSize', 'LoadConfigurationSize',\n",
      "       'VersionInformationSize', 'legitimate'],\n",
      "      dtype='object')\n"
     ]
    }
   ],
   "source": [
    "print(malData.columns)"
   ]
  },
  {
   "cell_type": "code",
   "execution_count": 22,
   "id": "c56cc987",
   "metadata": {},
   "outputs": [
    {
     "name": "stdout",
     "output_type": "stream",
     "text": [
      "The shape of the legit dataset is: 41323 sample, 56 features\n",
      "The shape of the malware dataset is: 96724 sample, 56 features\n"
     ]
    }
   ],
   "source": [
    "legit = malData[0:41323].drop([\"legitimate\"], axis=1)\n",
    "mal = malData[41323::].drop([\"legitimate\"], axis=1)\n",
    "\n",
    "print(\"The shape of the legit dataset is: %s sample, %s features\"%(legit.shape[0],legit.shape[1]))\n",
    "print(\"The shape of the malware dataset is: %s sample, %s features\"%(mal.shape[0],mal.shape[1]))"
   ]
  },
  {
   "cell_type": "code",
   "execution_count": 16,
   "id": "f925f4e7",
   "metadata": {},
   "outputs": [
    {
     "name": "stdout",
     "output_type": "stream",
     "text": [
      "           Name                               md5  Machine  \\\n",
      "0   memtest.exe  631ea355665f28d4707448e442fbf5b8      332   \n",
      "1       ose.exe  9d10f99a6712e28f8acd5641e3a7ea6b      332   \n",
      "2     setup.exe  4d92f518527353c0db88a70fddcfd390      332   \n",
      "3      DW20.EXE  a41e524f8d45f0074fd07805ff0c9b12      332   \n",
      "4  dwtrig20.exe  c87e561258f2f8650cef999bf643a731      332   \n",
      "\n",
      "   SizeOfOptionalHeader  Characteristics  MajorLinkerVersion  \\\n",
      "0                   224              258                   9   \n",
      "1                   224             3330                   9   \n",
      "2                   224             3330                   9   \n",
      "3                   224              258                   9   \n",
      "4                   224              258                   9   \n",
      "\n",
      "   MinorLinkerVersion  SizeOfCode  SizeOfInitializedData  \\\n",
      "0                   0      361984                 115712   \n",
      "1                   0      130560                  19968   \n",
      "2                   0      517120                 621568   \n",
      "3                   0      585728                 369152   \n",
      "4                   0      294912                 247296   \n",
      "\n",
      "   SizeOfUninitializedData  ...  ResourcesNb  ResourcesMeanEntropy  \\\n",
      "0                        0  ...            4              3.262823   \n",
      "1                        0  ...            2              4.250461   \n",
      "2                        0  ...           11              4.426324   \n",
      "3                        0  ...           10              4.364291   \n",
      "4                        0  ...            2              4.306100   \n",
      "\n",
      "   ResourcesMinEntropy  ResourcesMaxEntropy  ResourcesMeanSize  \\\n",
      "0             2.568844             3.537939        8797.000000   \n",
      "1             3.420744             5.080177         837.000000   \n",
      "2             2.846449             5.271813       31102.272727   \n",
      "3             2.669314             6.400720        1457.000000   \n",
      "4             3.421598             5.190603        1074.500000   \n",
      "\n",
      "   ResourcesMinSize  ResourcesMaxSize  LoadConfigurationSize  \\\n",
      "0               216             18032                      0   \n",
      "1               518              1156                     72   \n",
      "2               104            270376                     72   \n",
      "3                90              4264                     72   \n",
      "4               849              1300                     72   \n",
      "\n",
      "   VersionInformationSize  legitimate  \n",
      "0                      16           1  \n",
      "1                      18           1  \n",
      "2                      18           1  \n",
      "3                      18           1  \n",
      "4                      18           1  \n",
      "\n",
      "[5 rows x 57 columns]\n"
     ]
    }
   ],
   "source": [
    "print(malData.head(5))"
   ]
  },
  {
   "cell_type": "code",
   "execution_count": 17,
   "id": "7d6bd510",
   "metadata": {},
   "outputs": [],
   "source": [
    "pd.set_option(\"display.max_columns\", None)"
   ]
  },
  {
   "cell_type": "code",
   "execution_count": 18,
   "id": "885f18e7",
   "metadata": {},
   "outputs": [
    {
     "name": "stdout",
     "output_type": "stream",
     "text": [
      "           Name                               md5  Machine  \\\n",
      "0   memtest.exe  631ea355665f28d4707448e442fbf5b8      332   \n",
      "1       ose.exe  9d10f99a6712e28f8acd5641e3a7ea6b      332   \n",
      "2     setup.exe  4d92f518527353c0db88a70fddcfd390      332   \n",
      "3      DW20.EXE  a41e524f8d45f0074fd07805ff0c9b12      332   \n",
      "4  dwtrig20.exe  c87e561258f2f8650cef999bf643a731      332   \n",
      "\n",
      "   SizeOfOptionalHeader  Characteristics  MajorLinkerVersion  \\\n",
      "0                   224              258                   9   \n",
      "1                   224             3330                   9   \n",
      "2                   224             3330                   9   \n",
      "3                   224              258                   9   \n",
      "4                   224              258                   9   \n",
      "\n",
      "   MinorLinkerVersion  SizeOfCode  SizeOfInitializedData  \\\n",
      "0                   0      361984                 115712   \n",
      "1                   0      130560                  19968   \n",
      "2                   0      517120                 621568   \n",
      "3                   0      585728                 369152   \n",
      "4                   0      294912                 247296   \n",
      "\n",
      "   SizeOfUninitializedData  AddressOfEntryPoint  BaseOfCode  BaseOfData  \\\n",
      "0                        0                 6135        4096      372736   \n",
      "1                        0                81778        4096      143360   \n",
      "2                        0               350896        4096      811008   \n",
      "3                        0               451258        4096      798720   \n",
      "4                        0               217381        4096      536576   \n",
      "\n",
      "     ImageBase  SectionAlignment  FileAlignment  MajorOperatingSystemVersion  \\\n",
      "0    4194304.0              4096            512                            0   \n",
      "1  771751936.0              4096            512                            5   \n",
      "2  771751936.0              4096            512                            5   \n",
      "3  771751936.0              4096            512                            5   \n",
      "4  771751936.0              4096            512                            5   \n",
      "\n",
      "   MinorOperatingSystemVersion  MajorImageVersion  MinorImageVersion  \\\n",
      "0                            0                  0                  0   \n",
      "1                            1                  0                  0   \n",
      "2                            1                  0                  0   \n",
      "3                            1                  0                  0   \n",
      "4                            1                  0                  0   \n",
      "\n",
      "   MajorSubsystemVersion  MinorSubsystemVersion  SizeOfImage  SizeOfHeaders  \\\n",
      "0                      1                      0      1036288           1024   \n",
      "1                      5                      1       159744           1024   \n",
      "2                      5                      1      1150976           1024   \n",
      "3                      5                      1       962560           1024   \n",
      "4                      5                      1       552960           1024   \n",
      "\n",
      "   CheckSum  Subsystem  DllCharacteristics  SizeOfStackReserve  \\\n",
      "0    485887         16                1024             1048576   \n",
      "1    188943          2               33088             1048576   \n",
      "2   1159817          2               32832             1048576   \n",
      "3    867570          2               33088             1048576   \n",
      "4    579287          2               33088             1048576   \n",
      "\n",
      "   SizeOfStackCommit  SizeOfHeapReserve  SizeOfHeapCommit  LoaderFlags  \\\n",
      "0               4096            1048576              4096            0   \n",
      "1               4096            1048576              4096            0   \n",
      "2               4096            1048576              4096            0   \n",
      "3               4096            1048576              4096            0   \n",
      "4               4096            1048576              4096            0   \n",
      "\n",
      "   NumberOfRvaAndSizes  SectionsNb  SectionsMeanEntropy  SectionsMinEntropy  \\\n",
      "0                   16           8             5.766807            3.607430   \n",
      "1                   16           4             4.839688            2.373525   \n",
      "2                   16           4             6.409558            4.885191   \n",
      "3                   16           4             6.641731            5.642565   \n",
      "4                   16           4             6.252684            4.182282   \n",
      "\n",
      "   SectionsMaxEntropy  SectionsMeanRawsize  SectionsMinRawsize  \\\n",
      "0            7.221051              59712.0                1024   \n",
      "1            6.566909              35584.0                2048   \n",
      "2            7.600957             273408.0               21504   \n",
      "3            7.594929             207872.0               15360   \n",
      "4            7.608305             128128.0                2560   \n",
      "\n",
      "   SectionMaxRawsize  SectionsMeanVirtualsize  SectionsMinVirtualsize  \\\n",
      "0             325120               126875.875                     896   \n",
      "1             130560                37322.000                    1840   \n",
      "2             517120               284498.000                   21456   \n",
      "3             585728               238502.000                   15208   \n",
      "4             294912               135350.000                    2320   \n",
      "\n",
      "   SectionMaxVirtualsize  ImportsNbDLL  ImportsNb  ImportsNbOrdinal  ExportNb  \\\n",
      "0                 551848             0          0                 0         0   \n",
      "1                 130296             7        181                 0         0   \n",
      "2                 516760            14        235                21         1   \n",
      "3                 585488            15        360                 6         1   \n",
      "4                 294816            10        194                 4         1   \n",
      "\n",
      "   ResourcesNb  ResourcesMeanEntropy  ResourcesMinEntropy  \\\n",
      "0            4              3.262823             2.568844   \n",
      "1            2              4.250461             3.420744   \n",
      "2           11              4.426324             2.846449   \n",
      "3           10              4.364291             2.669314   \n",
      "4            2              4.306100             3.421598   \n",
      "\n",
      "   ResourcesMaxEntropy  ResourcesMeanSize  ResourcesMinSize  ResourcesMaxSize  \\\n",
      "0             3.537939        8797.000000               216             18032   \n",
      "1             5.080177         837.000000               518              1156   \n",
      "2             5.271813       31102.272727               104            270376   \n",
      "3             6.400720        1457.000000                90              4264   \n",
      "4             5.190603        1074.500000               849              1300   \n",
      "\n",
      "   LoadConfigurationSize  VersionInformationSize  legitimate  \n",
      "0                      0                      16           1  \n",
      "1                     72                      18           1  \n",
      "2                     72                      18           1  \n",
      "3                     72                      18           1  \n",
      "4                     72                      18           1  \n"
     ]
    }
   ],
   "source": [
    "print(malData.head(5))"
   ]
  },
  {
   "cell_type": "code",
   "execution_count": 23,
   "id": "6cdb2c9e",
   "metadata": {},
   "outputs": [
    {
     "name": "stdout",
     "output_type": "stream",
     "text": [
      "                                              Name  \\\n",
      "41324  VirusShare_9bd57c8252948bd2fa651ad372bd4f13   \n",
      "\n",
      "                                    md5  Machine  SizeOfOptionalHeader  \\\n",
      "41324  9bd57c8252948bd2fa651ad372bd4f13      332                   224   \n",
      "\n",
      "       Characteristics  MajorLinkerVersion  MinorLinkerVersion  SizeOfCode  \\\n",
      "41324              271                   6                   0       24064   \n",
      "\n",
      "       SizeOfInitializedData  SizeOfUninitializedData  AddressOfEntryPoint  \\\n",
      "41324                 164864                     1024                12538   \n",
      "\n",
      "       BaseOfCode  BaseOfData  ImageBase  SectionAlignment  FileAlignment  \\\n",
      "41324        4096       28672  4194304.0              4096            512   \n",
      "\n",
      "       MajorOperatingSystemVersion  MinorOperatingSystemVersion  \\\n",
      "41324                            4                            0   \n",
      "\n",
      "       MajorImageVersion  MinorImageVersion  MajorSubsystemVersion  \\\n",
      "41324                  6                  0                      4   \n",
      "\n",
      "       MinorSubsystemVersion  SizeOfImage  SizeOfHeaders  CheckSum  Subsystem  \\\n",
      "41324                      0       241664           1024         0          2   \n",
      "\n",
      "       DllCharacteristics  SizeOfStackReserve  SizeOfStackCommit  \\\n",
      "41324               32768             1048576               4096   \n",
      "\n",
      "       SizeOfHeapReserve  SizeOfHeapCommit  LoaderFlags  NumberOfRvaAndSizes  \\\n",
      "41324            1048576              4096            0                   16   \n",
      "\n",
      "       SectionsNb  SectionsMeanEntropy  SectionsMinEntropy  \\\n",
      "41324           5             4.104541                 0.0   \n",
      "\n",
      "       SectionsMaxEntropy  SectionsMeanRawsize  SectionsMinRawsize  \\\n",
      "41324            6.440106               6758.4                   0   \n",
      "\n",
      "       SectionMaxRawsize  SectionsMeanVirtualsize  SectionsMinVirtualsize  \\\n",
      "41324              24064                  46260.8                    3144   \n",
      "\n",
      "       SectionMaxVirtualsize  ImportsNbDLL  ImportsNb  ImportsNbOrdinal  \\\n",
      "41324                 154712             8        155                 1   \n",
      "\n",
      "       ExportNb  ResourcesNb  ResourcesMeanEntropy  ResourcesMinEntropy  \\\n",
      "41324         0            6              3.199107             1.971335   \n",
      "\n",
      "       ResourcesMaxEntropy  ResourcesMeanSize  ResourcesMinSize  \\\n",
      "41324             5.214816              452.0                34   \n",
      "\n",
      "       ResourcesMaxSize  LoadConfigurationSize  VersionInformationSize  \n",
      "41324               958                      0                      15  \n"
     ]
    }
   ],
   "source": [
    "print(mal.take([1]))"
   ]
  },
  {
   "cell_type": "code",
   "execution_count": 24,
   "id": "78090dd7",
   "metadata": {},
   "outputs": [
    {
     "name": "stdout",
     "output_type": "stream",
     "text": [
      "      Name                               md5  Machine  SizeOfOptionalHeader  \\\n",
      "1  ose.exe  9d10f99a6712e28f8acd5641e3a7ea6b      332                   224   \n",
      "\n",
      "   Characteristics  MajorLinkerVersion  MinorLinkerVersion  SizeOfCode  \\\n",
      "1             3330                   9                   0      130560   \n",
      "\n",
      "   SizeOfInitializedData  SizeOfUninitializedData  AddressOfEntryPoint  \\\n",
      "1                  19968                        0                81778   \n",
      "\n",
      "   BaseOfCode  BaseOfData    ImageBase  SectionAlignment  FileAlignment  \\\n",
      "1        4096      143360  771751936.0              4096            512   \n",
      "\n",
      "   MajorOperatingSystemVersion  MinorOperatingSystemVersion  \\\n",
      "1                            5                            1   \n",
      "\n",
      "   MajorImageVersion  MinorImageVersion  MajorSubsystemVersion  \\\n",
      "1                  0                  0                      5   \n",
      "\n",
      "   MinorSubsystemVersion  SizeOfImage  SizeOfHeaders  CheckSum  Subsystem  \\\n",
      "1                      1       159744           1024    188943          2   \n",
      "\n",
      "   DllCharacteristics  SizeOfStackReserve  SizeOfStackCommit  \\\n",
      "1               33088             1048576               4096   \n",
      "\n",
      "   SizeOfHeapReserve  SizeOfHeapCommit  LoaderFlags  NumberOfRvaAndSizes  \\\n",
      "1            1048576              4096            0                   16   \n",
      "\n",
      "   SectionsNb  SectionsMeanEntropy  SectionsMinEntropy  SectionsMaxEntropy  \\\n",
      "1           4             4.839688            2.373525            6.566909   \n",
      "\n",
      "   SectionsMeanRawsize  SectionsMinRawsize  SectionMaxRawsize  \\\n",
      "1              35584.0                2048             130560   \n",
      "\n",
      "   SectionsMeanVirtualsize  SectionsMinVirtualsize  SectionMaxVirtualsize  \\\n",
      "1                  37322.0                    1840                 130296   \n",
      "\n",
      "   ImportsNbDLL  ImportsNb  ImportsNbOrdinal  ExportNb  ResourcesNb  \\\n",
      "1             7        181                 0         0            2   \n",
      "\n",
      "   ResourcesMeanEntropy  ResourcesMinEntropy  ResourcesMaxEntropy  \\\n",
      "1              4.250461             3.420744             5.080177   \n",
      "\n",
      "   ResourcesMeanSize  ResourcesMinSize  ResourcesMaxSize  \\\n",
      "1              837.0               518              1156   \n",
      "\n",
      "   LoadConfigurationSize  VersionInformationSize  \n",
      "1                     72                      18  \n"
     ]
    }
   ],
   "source": [
    "print(legit.take([1]))"
   ]
  },
  {
   "cell_type": "code",
   "execution_count": 42,
   "id": "a25ffe76",
   "metadata": {},
   "outputs": [
    {
     "ename": "ImportError",
     "evalue": "cannot import name 'cross_selection' from 'sklearn' (C:\\Users\\zaky\\AppData\\Local\\Programs\\Python\\Python39\\lib\\site-packages\\sklearn\\__init__.py)",
     "output_type": "error",
     "traceback": [
      "\u001b[1;31m---------------------------------------------------------------------------\u001b[0m",
      "\u001b[1;31mImportError\u001b[0m                               Traceback (most recent call last)",
      "Cell \u001b[1;32mIn[42], line 5\u001b[0m\n\u001b[0;32m      3\u001b[0m \u001b[38;5;28;01mfrom\u001b[39;00m \u001b[38;5;21;01msklearn\u001b[39;00m\u001b[38;5;21;01m.\u001b[39;00m\u001b[38;5;21;01mfeature_selection\u001b[39;00m \u001b[38;5;28;01mimport\u001b[39;00m SelectFromModel\n\u001b[0;32m      4\u001b[0m \u001b[38;5;28;01mfrom\u001b[39;00m \u001b[38;5;21;01msklearn\u001b[39;00m\u001b[38;5;21;01m.\u001b[39;00m\u001b[38;5;21;01mmodel_selection\u001b[39;00m \u001b[38;5;28;01mimport\u001b[39;00m train_test_split\n\u001b[1;32m----> 5\u001b[0m \u001b[38;5;28;01mfrom\u001b[39;00m \u001b[38;5;21;01msklearn\u001b[39;00m \u001b[38;5;28;01mimport\u001b[39;00m cross_selection\n",
      "\u001b[1;31mImportError\u001b[0m: cannot import name 'cross_selection' from 'sklearn' (C:\\Users\\zaky\\AppData\\Local\\Programs\\Python\\Python39\\lib\\site-packages\\sklearn\\__init__.py)"
     ]
    }
   ],
   "source": [
    "import sklearn\n",
    "from sklearn.ensemble import ExtraTreesClassifier\n",
    "from sklearn.feature_selection import SelectFromModel\n",
    "from sklearn.model_validation import train_test_split\n",
    "from sklearn import cross_validation"
   ]
  },
  {
   "cell_type": "code",
   "execution_count": 35,
   "id": "6ab4e85e",
   "metadata": {},
   "outputs": [
    {
     "name": "stdout",
     "output_type": "stream",
     "text": [
      "Requirement already satisfied: scikit-learn in c:\\users\\zaky\\appdata\\local\\programs\\python\\python39\\lib\\site-packages (1.2.0)\n",
      "Requirement already satisfied: scipy>=1.3.2 in c:\\users\\zaky\\appdata\\local\\programs\\python\\python39\\lib\\site-packages (from scikit-learn) (1.9.3)\n",
      "Requirement already satisfied: numpy>=1.17.3 in c:\\users\\zaky\\appdata\\local\\programs\\python\\python39\\lib\\site-packages (from scikit-learn) (1.24.0)\n",
      "Requirement already satisfied: threadpoolctl>=2.0.0 in c:\\users\\zaky\\appdata\\local\\programs\\python\\python39\\lib\\site-packages (from scikit-learn) (3.1.0)\n",
      "Requirement already satisfied: joblib>=1.1.1 in c:\\users\\zaky\\appdata\\local\\programs\\python\\python39\\lib\\site-packages (from scikit-learn) (1.2.0)\n"
     ]
    }
   ],
   "source": [
    "!pip install scikit-learn"
   ]
  },
  {
   "cell_type": "code",
   "execution_count": null,
   "id": "172fd728",
   "metadata": {},
   "outputs": [],
   "source": []
  }
 ],
 "metadata": {
  "kernelspec": {
   "display_name": "Python 3 (ipykernel)",
   "language": "python",
   "name": "python3"
  },
  "language_info": {
   "codemirror_mode": {
    "name": "ipython",
    "version": 3
   },
   "file_extension": ".py",
   "mimetype": "text/x-python",
   "name": "python",
   "nbconvert_exporter": "python",
   "pygments_lexer": "ipython3",
   "version": "3.9.7"
  }
 },
 "nbformat": 4,
 "nbformat_minor": 5
}
